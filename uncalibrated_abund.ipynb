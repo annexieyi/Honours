{
 "cells": [
  {
   "cell_type": "code",
   "execution_count": 1,
   "id": "5e83a7a5",
   "metadata": {},
   "outputs": [],
   "source": [
    "# Preamble for notebook \n",
    "\n",
    "# Compatibility with Python 3\n",
    "from __future__ import (absolute_import, division, print_function)\n",
    "\n",
    "try:\n",
    "    %matplotlib inline\n",
    "    %config InlineBackend.figure_format='retina'\n",
    "    %config Completer.use_jedi = False\n",
    "except:\n",
    "    pass\n",
    "\n",
    "# Basic packages\n",
    "import numpy as np\n",
    "import pandas as pd\n",
    "np.seterr(divide='ignore', invalid='ignore')\n",
    "from astropy.table import Table, join\n",
    "from astropy.io import fits\n",
    "from scipy.io import readsav\n",
    "from astropy.io import ascii\n",
    "\n",
    "# Matplotlib and associated packages for plotting\n",
    "import matplotlib\n",
    "import matplotlib.pyplot as plt\n",
    "\n",
    "\n",
    "\n"
   ]
  },
  {
   "cell_type": "code",
   "execution_count": 2,
   "id": "00e4a787",
   "metadata": {},
   "outputs": [],
   "source": [
    "# read in the agh table\n",
    "agh = Table.read('agh_final.fits')"
   ]
  },
  {
   "cell_type": "code",
   "execution_count": 4,
   "id": "541b19e5",
   "metadata": {},
   "outputs": [],
   "source": [
    "teff = agh['FPARAM'][:,0]\n",
    "logg = agh['FPARAM'][:,1]\n",
    "vmic = 10**agh['FPARAM'][:,2]\n",
    "fe_h = agh['FPARAM'][:,3]\n",
    "a_fe = agh['FPARAM'][:,6]\n",
    "vsini = 10**agh['FPARAM'][:,7]"
   ]
  },
  {
   "cell_type": "code",
   "execution_count": 20,
   "id": "19ebbbbc",
   "metadata": {},
   "outputs": [],
   "source": [
    "uncalibrated_apogee = agh['tmass_id','teff']"
   ]
  },
  {
   "cell_type": "code",
   "execution_count": 21,
   "id": "1b8a81cb",
   "metadata": {},
   "outputs": [],
   "source": [
    "uncalibrated_apogee['TEFF']=teff\n",
    "uncalibrated_apogee['LOGG']=logg\n",
    "uncalibrated_apogee['FE_H']=fe_h\n",
    "uncalibrated_apogee['VMICRO']=vmic\n",
    "uncalibrated_apogee['VSINI']=vsini\n",
    "uncalibrated_apogee.remove_column('teff')"
   ]
  },
  {
   "cell_type": "markdown",
   "id": "ba851644",
   "metadata": {},
   "source": [
    "FELEM: (C, CI, N, O, Na, Mg, Al, Si, P, S, K, Ca, Ti, TiII, V, Cr, Mn, Fe, Co, Ni, Cu, Ge, Rb, Ce, Nd, Yb, C13)\n"
   ]
  },
  {
   "cell_type": "code",
   "execution_count": 44,
   "id": "fca12b19",
   "metadata": {},
   "outputs": [],
   "source": [
    "# remvoe CI, TiII, C13\n",
    "# index for other elements\n",
    "uncal_ele = np.array(agh['FELEM'])\n",
    "ele_indices = [0, 2, 3, 4, 5, 6, 7, 8, 9, 10, 11, 12, 14, 15, 16, 17, 18, 19, 20, 21, 22, 23, 24, 25]\n",
    "\n",
    "# Select the desired columns\n",
    "ele_arr = uncal_ele[:, ele_indices]\n",
    "\n",
    "# These are the names of the columns you want to keep\n",
    "column_names = ['C', 'N', 'O', 'Na', 'Mg', 'Al', 'Si', 'P', 'S', 'K', \\\n",
    "                'Ca', 'Ti', 'V', 'Cr', 'Mn', 'Fe', 'Co', 'Ni', 'Cu', 'Ge', 'Rb', 'Ce', 'Nd', 'Yb']\n",
    "\n",
    "# Convert the array to a pandas DataFrame\n",
    "ele_uncalibrated = pd.DataFrame(ele_arr, columns=column_names)"
   ]
  },
  {
   "cell_type": "code",
   "execution_count": 48,
   "id": "7f07ed69",
   "metadata": {},
   "outputs": [],
   "source": [
    "# fill the nan value of the table by 0 \n",
    "uncal_abund = ele_uncalibrated.fillna(0)"
   ]
  },
  {
   "cell_type": "code",
   "execution_count": 53,
   "id": "eb0dd8db",
   "metadata": {},
   "outputs": [],
   "source": [
    "def calculate_sme_abundance_table(sample):\n",
    "    '''\n",
    "    input: the elemental abundance measured by GALAH and APOGEE (pandas dataframe)\n",
    "    output: sme.abund\n",
    "    '''\n",
    "    \n",
    "    #       \"H\",  \"He\",  \"Li\",  \"Be\",   \"B\",   \"C\",   \"N\",   \"O\",   \"F\",  \"Ne\",\n",
    "    a_x= [12.00, 10.93,  1.05,  1.38,  2.70,  8.39,  7.78,  8.66,  4.56,  7.84,\n",
    "    #      \"Na\",  \"Mg\",  \"Al\",  \"Si\",   \"P\",   \"S\",  \"Cl\",  \"Ar\",   \"K\",  \"Ca\",\n",
    "           6.17,  7.53,  6.37,  7.51,  5.36,  7.14,  5.50,  6.18,  5.08,  6.31,\n",
    "    #      \"Sc\",  \"Ti\",   \"V\",  \"Cr\",  \"Mn\",  \"Fe\",  \"Co\",  \"Ni\",  \"Cu\",  \"Zn\",\n",
    "           3.17,  4.90,  4.00,  5.64,  5.39,  7.45,  4.92,  6.23,  4.21,  4.60,\n",
    "    #      \"Ga\",  \"Ge\",  \"As\",  \"Se\",  \"Br\",  \"Kr\",  \"Rb\",  \"Sr\",   \"Y\",  \"Zr\",\n",
    "           2.88,  3.58,  2.29,  3.33,  2.56,  3.25,  2.60,  2.92,  2.21,  2.58,\n",
    "    #      \"Nb\",  \"Mo\",  \"Tc\",  \"Ru\",  \"Rh\",  \"Pd\",  \"Ag\",  \"Cd\",  \"In\",  \"Sn\",\n",
    "           1.42,  1.92, -8.00,  1.84,  1.12,  1.66,  0.94,  1.77,  1.60,  2.00,\n",
    "    #      \"Sb\",  \"Te\",   \"I\",  \"Xe\",  \"Cs\",  \"Ba\",  \"La\",  \"Ce\",  \"Pr\",  \"Nd\",\n",
    "           1.00,  2.19,  1.51,  2.24,  1.07,  2.17,  1.13,  1.70,  0.58,  1.45,\n",
    "    #      \"Pm\",  \"Sm\",  \"Eu\",  \"Gd\",  \"Tb\",  \"Dy\",  \"Ho\",  \"Er\",  \"Tm\",  \"Yb\",\n",
    "          -8.00,  1.00,  0.52,  1.11,  0.28,  1.14,  0.51,  0.93,  0.00,  1.08,\n",
    "    #      \"Lu\",  \"Hf\",  \"Ta\",   \"W\",  \"Re\",  \"Os\",  \"Ir\",  \"Pt\",  \"Au\",  \"Hg\",\n",
    "           0.06,  0.88, -0.17,  1.11,  0.23,  1.25,  1.38,  1.64,  1.01,  1.13,\n",
    "    #      \"Tl\",  \"Pb\",  \"Bi\",  \"Po\",  \"At\",  \"Rn\",  \"Fr\",  \"Ra\",  \"Ac\",  \"Th\",\n",
    "           0.90,  2.00,  0.65, -8.00, -8.00, -8.00, -8.00, -8.00, -8.00,  0.06,\n",
    "    #      \"Pa\",   \"U\",  \"Np\",  \"Pu\",  \"Am\",  \"Cm\",  \"Bk\",  \"Cf\",  \"Es\", \"TiO\" \n",
    "          -8.00, -0.52, -8.00, -8.00, -8.00, -8.00, -8.00, -8.00, -8.00]\n",
    "   \n",
    "    log_eonh = np.array(a_x) - 12.0 #Default abundance pattern in sme.abund?\n",
    "    log_eonfe = np.array(a_x)-7.45 # convert to log(element/Fe)\n",
    "    \n",
    "    \n",
    "    elements = np.array(['C', 'N', 'O', 'Na', 'Mg', 'Al', 'Si', 'P', 'S', 'K', 'Ca', 'Ti', \\\n",
    "                         'V', 'Cr', 'Mn', 'Fe', 'Co', 'Ni', 'Cu', 'Ge', 'Rb', 'Ce', 'Nd', 'Yb']) # elements measured in the survey\n",
    "\n",
    "    element_indices = np.array([6, 7, 8, 11, 12, 13, 14, 15, 16, 19, 20, 22, \\\n",
    "                                23, 24, 25, 26, 27, 28, 29, 32, 37, 58, 60, 70])-1 \n",
    "\n",
    "    \n",
    "    log_eonh_ = []\n",
    "    abund_list = []\n",
    "    \n",
    "        \n",
    "        \n",
    "    for i in range(len(sample)): # for each star \n",
    "        logeonh=list(log_eonh)\n",
    "        for j in range(len(elements)): # index and element\n",
    "            element = elements[j] # element\n",
    "            element_index = element_indices[j] # index of the element in a_x \n",
    "            logeonh[element_index] = log_eonh[element_index] + sample[element][i] # get the log element on h \n",
    "        \n",
    "        \n",
    "        \n",
    "        \n",
    "        eonh = 10**np.array(logeonh) # the element on hydrogen\n",
    "        renorm = np.sum(eonh)\n",
    "\n",
    "        eontot = eonh / renorm\n",
    "        log_eontot = np.log10(eontot).astype(np.float)\n",
    "        abund = log_eontot\n",
    "        abund[0] = eonh[0] / renorm\n",
    "        abund = abund.astype(np.float)\n",
    "        \n",
    "        abund_list.append(abund)\n",
    "\n",
    "    return(abund_list)\n",
    "    \n",
    "    \n",
    "    \n",
    "    '''\n",
    "    for index, element in enumerate(elements):\n",
    "        element_index = element_indices[index] # element index in a_x\n",
    "        logeonh=list(log_eonh)\n",
    "        logeonh[element_index] = log_eonh[element_index] + np.array(sample[element+'_FE']) # log element on Fe of the observed star\n",
    "    '''\n",
    "  \n",
    "    "
   ]
  },
  {
   "cell_type": "code",
   "execution_count": 54,
   "id": "c20ec72c",
   "metadata": {},
   "outputs": [
    {
     "name": "stderr",
     "output_type": "stream",
     "text": [
      "/Users/anne/opt/anaconda3/lib/python3.7/site-packages/ipykernel_launcher.py:58: DeprecationWarning: `np.float` is a deprecated alias for the builtin `float`. To silence this warning, use `float` by itself. Doing this will not modify any behavior and is safe. If you specifically wanted the numpy scalar type, use `np.float64` here.\n",
      "Deprecated in NumPy 1.20; for more details and guidance: https://numpy.org/devdocs/release/1.20.0-notes.html#deprecations\n",
      "/Users/anne/opt/anaconda3/lib/python3.7/site-packages/ipykernel_launcher.py:61: DeprecationWarning: `np.float` is a deprecated alias for the builtin `float`. To silence this warning, use `float` by itself. Doing this will not modify any behavior and is safe. If you specifically wanted the numpy scalar type, use `np.float64` here.\n",
      "Deprecated in NumPy 1.20; for more details and guidance: https://numpy.org/devdocs/release/1.20.0-notes.html#deprecations\n"
     ]
    }
   ],
   "source": [
    "uncalibrated_abund = calculate_sme_abundance_table(uncal_abund)"
   ]
  },
  {
   "cell_type": "code",
   "execution_count": 61,
   "id": "038964f0",
   "metadata": {},
   "outputs": [],
   "source": [
    "uncalibrated_apogee['SME_abund'] = uncalibrated_abund"
   ]
  },
  {
   "cell_type": "code",
   "execution_count": 62,
   "id": "4a0b6717",
   "metadata": {},
   "outputs": [
    {
     "data": {
      "text/html": [
       "<div><i>Table length=3542</i>\n",
       "<table id=\"table140564062482832\" class=\"table-striped table-bordered table-condensed\">\n",
       "<thead><tr><th>tmass_id</th><th>TEFF</th><th>LOGG</th><th>FE_H</th><th>VMICRO</th><th>VSINI</th><th>SME_abund [99]</th></tr></thead>\n",
       "<thead><tr><th>bytes17</th><th>float32</th><th>float32</th><th>float32</th><th>float32</th><th>float32</th><th>float64</th></tr></thead>\n",
       "<tr><td>00041790-7249588</td><td>4950.8</td><td>3.4213</td><td>-0.15789</td><td>1.0906038</td><td>3.2427979</td><td>0.9208075029068955 .. -20.035831150653472</td></tr>\n",
       "<tr><td>00050927-5144526</td><td>4550.4</td><td>2.5531</td><td>0.05236</td><td>1.2626413</td><td>2.8674467</td><td>0.9205774528816895 .. -20.035939666210435</td></tr>\n",
       "<tr><td>00063954-2027036</td><td>4770.8</td><td>3.4626</td><td>0.32945</td><td>0.3010163</td><td>2.4382977</td><td>0.9207290598375084 .. -20.03586814953027</td></tr>\n",
       "<tr><td>00074341-2000506</td><td>4564.0</td><td>2.5997</td><td>0.062292</td><td>1.3086092</td><td>2.850832</td><td>0.9207385353286056 .. -20.03586368010218</td></tr>\n",
       "<tr><td>00081109-2105478</td><td>4778.5</td><td>3.4316</td><td>0.1529</td><td>0.96628004</td><td>2.7036355</td><td>0.9207482306752444 .. -20.03585910701958</td></tr>\n",
       "<tr><td>00082727-5205478</td><td>4502.1</td><td>2.6266</td><td>-0.25849</td><td>1.3157398</td><td>3.439397</td><td>0.9204049118290788 .. -20.036021072343058</td></tr>\n",
       "<tr><td>...</td><td>...</td><td>...</td><td>...</td><td>...</td><td>...</td><td>...</td></tr>\n",
       "<tr><td>23534868+1643361</td><td>4872.9</td><td>2.6039</td><td>-0.44598</td><td>1.513631</td><td>3.8381643</td><td>0.9202271359183576 .. -20.036104964283737</td></tr>\n",
       "<tr><td>23535446+1626538</td><td>4721.7</td><td>2.5697</td><td>-0.43951</td><td>1.3159215</td><td>3.8236618</td><td>0.9201670386482085 .. -20.03613332767803</td></tr>\n",
       "<tr><td>23541908+1657593</td><td>4918.0</td><td>3.3361</td><td>-0.49662</td><td>0.6024625</td><td>2.1035364</td><td>0.9203069252518367 .. -20.036067309922434</td></tr>\n",
       "<tr><td>23542488+1632296</td><td>4631.3</td><td>2.6123</td><td>-0.36068</td><td>1.3198665</td><td>3.6513107</td><td>0.9206296021250266 .. -20.035915064818038</td></tr>\n",
       "<tr><td>23543916+1616199</td><td>4443.9</td><td>2.6026</td><td>0.048836</td><td>1.1535674</td><td>2.873365</td><td>0.9206880570907742 .. -20.03588749035912</td></tr>\n",
       "<tr><td>23553699-0355471</td><td>4724.0</td><td>2.4939</td><td>-0.46823</td><td>1.3786055</td><td>3.8884563</td><td>0.9202537587057509 .. -20.03609240003524</td></tr>\n",
       "<tr><td>23555014-0351242</td><td>4674.5</td><td>3.0754</td><td>-0.1643</td><td>0.30429164</td><td>3.2549822</td><td>0.9205123874306315 .. -20.035970362774773</td></tr>\n",
       "</table></div>"
      ],
      "text/plain": [
       "<Table length=3542>\n",
       "    tmass_id       TEFF  ...               SME_abund [99]             \n",
       "    bytes17      float32 ...                  float64                 \n",
       "---------------- ------- ... -----------------------------------------\n",
       "00041790-7249588  4950.8 ... 0.9208075029068955 .. -20.035831150653472\n",
       "00050927-5144526  4550.4 ... 0.9205774528816895 .. -20.035939666210435\n",
       "00063954-2027036  4770.8 ...  0.9207290598375084 .. -20.03586814953027\n",
       "00074341-2000506  4564.0 ...  0.9207385353286056 .. -20.03586368010218\n",
       "00081109-2105478  4778.5 ...  0.9207482306752444 .. -20.03585910701958\n",
       "00082727-5205478  4502.1 ... 0.9204049118290788 .. -20.036021072343058\n",
       "             ...     ... ...                                       ...\n",
       "23534868+1643361  4872.9 ... 0.9202271359183576 .. -20.036104964283737\n",
       "23535446+1626538  4721.7 ...  0.9201670386482085 .. -20.03613332767803\n",
       "23541908+1657593  4918.0 ... 0.9203069252518367 .. -20.036067309922434\n",
       "23542488+1632296  4631.3 ... 0.9206296021250266 .. -20.035915064818038\n",
       "23543916+1616199  4443.9 ...  0.9206880570907742 .. -20.03588749035912\n",
       "23553699-0355471  4724.0 ...  0.9202537587057509 .. -20.03609240003524\n",
       "23555014-0351242  4674.5 ... 0.9205123874306315 .. -20.035970362774773"
      ]
     },
     "execution_count": 62,
     "metadata": {},
     "output_type": "execute_result"
    }
   ],
   "source": [
    "uncalibrated_apogee"
   ]
  }
 ],
 "metadata": {
  "kernelspec": {
   "display_name": "Python 3 (ipykernel)",
   "language": "python",
   "name": "python3"
  },
  "language_info": {
   "codemirror_mode": {
    "name": "ipython",
    "version": 3
   },
   "file_extension": ".py",
   "mimetype": "text/x-python",
   "name": "python",
   "nbconvert_exporter": "python",
   "pygments_lexer": "ipython3",
   "version": "3.7.13"
  }
 },
 "nbformat": 4,
 "nbformat_minor": 5
}
